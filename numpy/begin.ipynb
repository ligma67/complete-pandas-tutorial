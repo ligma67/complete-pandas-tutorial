{
 "cells": [
  {
   "cell_type": "code",
   "execution_count": 1,
   "id": "171528ed",
   "metadata": {},
   "outputs": [],
   "source": [
    "import numpy as np"
   ]
  },
  {
   "cell_type": "code",
   "execution_count": 5,
   "id": "c0339fde",
   "metadata": {},
   "outputs": [
    {
     "data": {
      "text/plain": [
       "[1, 2, 3, 4, 1, 2, 3, 4]"
      ]
     },
     "execution_count": 5,
     "metadata": {},
     "output_type": "execute_result"
    }
   ],
   "source": [
    "my_list = [1, 2, 3, 4]\n",
    "my_list*2"
   ]
  },
  {
   "cell_type": "markdown",
   "id": "e52a9ef5",
   "metadata": {},
   "source": [
    "##### creating numpy list"
   ]
  },
  {
   "cell_type": "code",
   "execution_count": 9,
   "id": "d818fa43",
   "metadata": {},
   "outputs": [
    {
     "data": {
      "text/plain": [
       "array([2, 4, 6, 8])"
      ]
     },
     "execution_count": 9,
     "metadata": {},
     "output_type": "execute_result"
    }
   ],
   "source": [
    "array = np.array(my_list)\n",
    "array*2\n"
   ]
  },
  {
   "cell_type": "markdown",
   "id": "6ac83dc9",
   "metadata": {},
   "source": [
    "##### ndim array  &  slicing"
   ]
  },
  {
   "cell_type": "code",
   "execution_count": 14,
   "id": "ff038fcc",
   "metadata": {},
   "outputs": [
    {
     "name": "stdout",
     "output_type": "stream",
     "text": [
      "(3, 3, 1)\n",
      "8\n",
      "14\n"
     ]
    }
   ],
   "source": [
    "#arr = np.array(2)\n",
    "#arr = np.array([1, 2, 3, 4])\n",
    "#arr = np.array([[1, 2, 3], [4, 5, 6], [7, 8, 9]])\n",
    "arr = np.array([[[1], [2], [3]], \n",
    "                [[4], [5], [6]],\n",
    "                [[7], [8], [9]]])  # -- 7    _8_(2,1,0)    9\n",
    "print(arr.shape)\n",
    "#arr.ndim\n",
    "print(arr[2,1,0])\n",
    "\n",
    "num = arr[0, 1, 0] + arr[1, 1, 0] + arr[2, 0, 0]\n",
    "print(num)"
   ]
  },
  {
   "cell_type": "code",
   "execution_count": null,
   "id": "4bcb57f9",
   "metadata": {},
   "outputs": [
    {
     "name": "stdout",
     "output_type": "stream",
     "text": [
      "[ 9 10 11]\n",
      "[[ 5  6  7  8]\n",
      " [13 14 15 16]]\n",
      "[[ 1  2]\n",
      " [ 5  6]\n",
      " [ 9 10]\n",
      " [13 14]]\n"
     ]
    }
   ],
   "source": [
    "array = np.array([[1, 2, 3, 4], \n",
    "                  [5, 6, 7, 8],\n",
    "                  [9, 10, 11, 12],\n",
    "                  [13, 14, 15, 16]])\n",
    "\n",
    "print(array[2, :-1])\n",
    "print(array[1:4:2])\n",
    "print(array[:, :2])\n",
    "\n"
   ]
  },
  {
   "cell_type": "markdown",
   "id": "681792aa",
   "metadata": {},
   "source": [
    "#### Arithemic"
   ]
  },
  {
   "cell_type": "code",
   "execution_count": 11,
   "id": "fe886b1a",
   "metadata": {},
   "outputs": [
    {
     "name": "stdout",
     "output_type": "stream",
     "text": [
      "[ 4.03  7.06 12.01 13.  ]\n",
      "[1.00498756 1.42126704 1.91572441 2.        ]\n",
      "[1. 2. 4. 4.]\n"
     ]
    }
   ],
   "source": [
    "ar = np.array([1.01, 2.02, 3.67, 4])\n",
    "print(ar * 3 + 1)\n",
    "print(np.sqrt(ar))\n",
    "print(np.round(ar))\n",
    "\n"
   ]
  },
  {
   "cell_type": "code",
   "execution_count": 12,
   "id": "6ec1a62b",
   "metadata": {},
   "outputs": [
    {
     "name": "stdout",
     "output_type": "stream",
     "text": [
      "[ 3.14159265 12.56637061 28.27433388 50.26548246]\n"
     ]
    }
   ],
   "source": [
    "radii = np.array([1, 2, 3, 4])\n",
    "print(np.pi * (radii**2))"
   ]
  },
  {
   "cell_type": "markdown",
   "id": "404f378b",
   "metadata": {},
   "source": [
    "### element wise arithmetic"
   ]
  },
  {
   "cell_type": "code",
   "execution_count": 16,
   "id": "78e7fb6f",
   "metadata": {},
   "outputs": [
    {
     "name": "stdout",
     "output_type": "stream",
     "text": [
      "[  1  32 729]\n",
      "[ 4 10 18]\n",
      "[5 7 9]\n"
     ]
    }
   ],
   "source": [
    "array1 = np.array([1, 2, 3])\n",
    "array2 = np.array([4, 5, 6])\n",
    "print(array1**array2)\n",
    "print(array1 * array2)\n",
    "\n",
    "print(array1 + array2)\n"
   ]
  },
  {
   "cell_type": "markdown",
   "id": "46c8def4",
   "metadata": {},
   "source": [
    "### data filtering"
   ]
  },
  {
   "cell_type": "code",
   "execution_count": 23,
   "id": "f5c26f1e",
   "metadata": {},
   "outputs": [
    {
     "name": "stdout",
     "output_type": "stream",
     "text": [
      "[ True False  True  True  True False]\n",
      "[ 91   0 100  67  82  64]\n"
     ]
    }
   ],
   "source": [
    "scores = np.array([91, 55, 100, 67, 82, 64])\n",
    "print(scores >= 67)\n",
    "scores[scores < 60] = 0\n",
    "print(scores)"
   ]
  },
  {
   "cell_type": "markdown",
   "id": "8cc0c2ef",
   "metadata": {},
   "source": [
    "### broadcasting"
   ]
  },
  {
   "cell_type": "code",
   "execution_count": 30,
   "id": "2f5e1258",
   "metadata": {},
   "outputs": [
    {
     "name": "stdout",
     "output_type": "stream",
     "text": [
      "(4, 4) (4, 1)\n",
      "[[ 1  2  3  4]\n",
      " [10 12 14 16]\n",
      " [27 30 33 36]\n",
      " [52 56 60 64]]\n"
     ]
    }
   ],
   "source": [
    "a1 = np.array([[1, 2, 3, 4], [5 ,6 , 7, 8], [9, 10, 11, 12], [13, 14, 15, 16]])\n",
    "a2 = np.array([[1], [2], [3], [4]])\n",
    "print(a1.shape, a2.shape)\n",
    "print(a1 * a2)"
   ]
  },
  {
   "cell_type": "markdown",
   "id": "ff09735d",
   "metadata": {},
   "source": [
    "### aggregate functions"
   ]
  },
  {
   "cell_type": "code",
   "execution_count": 2,
   "id": "4abc9bb4",
   "metadata": {},
   "outputs": [
    {
     "name": "stdout",
     "output_type": "stream",
     "text": [
      "55\n",
      "5.5\n",
      "2.8722813232690143\n",
      "8.25\n",
      "1\n",
      "0\n",
      "9\n",
      "[ 7  9 11 13 15]\n"
     ]
    }
   ],
   "source": [
    "a = np.array([[1, 2, 3, 4, 5],\n",
    "               [6, 7, 8, 9, 10]])\n",
    "print(a.sum())\n",
    "print(a.mean())\n",
    "print(a.std())\n",
    "print(a.var())\n",
    "print(a.min())\n",
    "print(a.argmin())\n",
    "print(a.argmax())\n",
    "print(np.sum(a, axis=0))"
   ]
  },
  {
   "cell_type": "markdown",
   "id": "fdedc1b4",
   "metadata": {},
   "source": [
    "## Filtering"
   ]
  },
  {
   "cell_type": "code",
   "execution_count": 16,
   "id": "563b6994",
   "metadata": {},
   "outputs": [
    {
     "name": "stdout",
     "output_type": "stream",
     "text": [
      "[17 16 15] [21 19 20 30 18 39 22 18 19 20 21] [67 39 99] [67 99] [20 16 30 18 22 18 20] [[21  0 19 20  0 30 18 67]\n",
      " [39 22  0 99 18 19 20 21]]\n"
     ]
    }
   ],
   "source": [
    "ages = np.array([[21, 17, 19, 20, 16, 30, 18, 67], \n",
    "                 [39, 22, 15, 99, 18, 19, 20, 21]])\n",
    "\n",
    "teens = ages[ages < 18]\n",
    "adults = ages[(ages >= 18) & (ages < 65)]\n",
    "random = ages[~(ages < 33)]\n",
    "seniors = ages[ages >= 65]\n",
    "even = ages[ages % 2 == 0]\n",
    "\n",
    "ad = np.where(ages >= 18, ages, 0)\n",
    "print(teens, adults, random, seniors, even, ad)"
   ]
  },
  {
   "cell_type": "markdown",
   "id": "dd366f22",
   "metadata": {},
   "source": [
    "## RNG "
   ]
  },
  {
   "cell_type": "code",
   "execution_count": null,
   "id": "a5da6ccb",
   "metadata": {},
   "outputs": [
    {
     "name": "stdout",
     "output_type": "stream",
     "text": [
      "[[473 511 755 950]\n",
      " [ 34 144 822 948]\n",
      " [249 311 869 423]\n",
      " [273 827 256 409]]\n"
     ]
    }
   ],
   "source": [
    "rng = np.random.default_rng(seed=1) #seeeeeeds\n",
    "print(rng.integers(0, 1000, [4, 4]))"
   ]
  },
  {
   "cell_type": "code",
   "execution_count": 164,
   "id": "ceb57622",
   "metadata": {},
   "outputs": [
    {
     "name": "stdout",
     "output_type": "stream",
     "text": [
      "[[55.07979026 70.81478226 29.09047389]\n",
      " [51.08276052 89.29469543 89.62930889]\n",
      " [12.55853105 20.72428781  5.14672033]]\n"
     ]
    }
   ],
   "source": [
    "np.random.seed(seed=3)\n",
    "print(np.random.uniform(0, 100, (3, 3)))\n"
   ]
  },
  {
   "cell_type": "code",
   "execution_count": 172,
   "id": "ee54764e",
   "metadata": {},
   "outputs": [
    {
     "name": "stdout",
     "output_type": "stream",
     "text": [
      "[2 3 5 4 1]\n"
     ]
    }
   ],
   "source": [
    "array = np.array([1, 2, 3, 4, 5])\n",
    "rng = np.random.default_rng()\n",
    "rng.shuffle(array)\n",
    "print(array)"
   ]
  },
  {
   "cell_type": "code",
   "execution_count": 194,
   "id": "23511912",
   "metadata": {},
   "outputs": [
    {
     "name": "stdout",
     "output_type": "stream",
     "text": [
      "[['🥥' '🍊' '🍎' '🥥']\n",
      " ['🍊' '🥣' '🥣' '🍎']]\n"
     ]
    }
   ],
   "source": [
    "fruits = np.array(['apple', 'banana', 'orange', 'coconut', 'porridge'])\n",
    "fr2 = np.array(['🍎', '🍌', '🍊', '🥥', '🥣'])\n",
    "fruit = rng.choice(fr2, (2, 4))\n",
    "print(fruit)"
   ]
  }
 ],
 "metadata": {
  "kernelspec": {
   "display_name": "pandastut",
   "language": "python",
   "name": "python3"
  },
  "language_info": {
   "codemirror_mode": {
    "name": "ipython",
    "version": 3
   },
   "file_extension": ".py",
   "mimetype": "text/x-python",
   "name": "python",
   "nbconvert_exporter": "python",
   "pygments_lexer": "ipython3",
   "version": "3.12.6"
  }
 },
 "nbformat": 4,
 "nbformat_minor": 5
}
